{
  "cells": [
    {
      "cell_type": "code",
      "source": [
        "from google.colab import files\n",
        "uploaded = files.upload()   # choose sales_data.csv"
      ],
      "metadata": {
        "colab": {
          "base_uri": "https://localhost:8080/",
          "height": 73
        },
        "id": "v2YbRWlEzTc1",
        "outputId": "e0a0955c-d796-474c-af4d-c12d213175e5"
      },
      "execution_count": 4,
      "outputs": [
        {
          "output_type": "display_data",
          "data": {
            "text/plain": [
              "<IPython.core.display.HTML object>"
            ],
            "text/html": [
              "\n",
              "     <input type=\"file\" id=\"files-84b822f8-3314-4c1b-bdfc-e96642267d2b\" name=\"files[]\" multiple disabled\n",
              "        style=\"border:none\" />\n",
              "     <output id=\"result-84b822f8-3314-4c1b-bdfc-e96642267d2b\">\n",
              "      Upload widget is only available when the cell has been executed in the\n",
              "      current browser session. Please rerun this cell to enable.\n",
              "      </output>\n",
              "      <script>// Copyright 2017 Google LLC\n",
              "//\n",
              "// Licensed under the Apache License, Version 2.0 (the \"License\");\n",
              "// you may not use this file except in compliance with the License.\n",
              "// You may obtain a copy of the License at\n",
              "//\n",
              "//      http://www.apache.org/licenses/LICENSE-2.0\n",
              "//\n",
              "// Unless required by applicable law or agreed to in writing, software\n",
              "// distributed under the License is distributed on an \"AS IS\" BASIS,\n",
              "// WITHOUT WARRANTIES OR CONDITIONS OF ANY KIND, either express or implied.\n",
              "// See the License for the specific language governing permissions and\n",
              "// limitations under the License.\n",
              "\n",
              "/**\n",
              " * @fileoverview Helpers for google.colab Python module.\n",
              " */\n",
              "(function(scope) {\n",
              "function span(text, styleAttributes = {}) {\n",
              "  const element = document.createElement('span');\n",
              "  element.textContent = text;\n",
              "  for (const key of Object.keys(styleAttributes)) {\n",
              "    element.style[key] = styleAttributes[key];\n",
              "  }\n",
              "  return element;\n",
              "}\n",
              "\n",
              "// Max number of bytes which will be uploaded at a time.\n",
              "const MAX_PAYLOAD_SIZE = 100 * 1024;\n",
              "\n",
              "function _uploadFiles(inputId, outputId) {\n",
              "  const steps = uploadFilesStep(inputId, outputId);\n",
              "  const outputElement = document.getElementById(outputId);\n",
              "  // Cache steps on the outputElement to make it available for the next call\n",
              "  // to uploadFilesContinue from Python.\n",
              "  outputElement.steps = steps;\n",
              "\n",
              "  return _uploadFilesContinue(outputId);\n",
              "}\n",
              "\n",
              "// This is roughly an async generator (not supported in the browser yet),\n",
              "// where there are multiple asynchronous steps and the Python side is going\n",
              "// to poll for completion of each step.\n",
              "// This uses a Promise to block the python side on completion of each step,\n",
              "// then passes the result of the previous step as the input to the next step.\n",
              "function _uploadFilesContinue(outputId) {\n",
              "  const outputElement = document.getElementById(outputId);\n",
              "  const steps = outputElement.steps;\n",
              "\n",
              "  const next = steps.next(outputElement.lastPromiseValue);\n",
              "  return Promise.resolve(next.value.promise).then((value) => {\n",
              "    // Cache the last promise value to make it available to the next\n",
              "    // step of the generator.\n",
              "    outputElement.lastPromiseValue = value;\n",
              "    return next.value.response;\n",
              "  });\n",
              "}\n",
              "\n",
              "/**\n",
              " * Generator function which is called between each async step of the upload\n",
              " * process.\n",
              " * @param {string} inputId Element ID of the input file picker element.\n",
              " * @param {string} outputId Element ID of the output display.\n",
              " * @return {!Iterable<!Object>} Iterable of next steps.\n",
              " */\n",
              "function* uploadFilesStep(inputId, outputId) {\n",
              "  const inputElement = document.getElementById(inputId);\n",
              "  inputElement.disabled = false;\n",
              "\n",
              "  const outputElement = document.getElementById(outputId);\n",
              "  outputElement.innerHTML = '';\n",
              "\n",
              "  const pickedPromise = new Promise((resolve) => {\n",
              "    inputElement.addEventListener('change', (e) => {\n",
              "      resolve(e.target.files);\n",
              "    });\n",
              "  });\n",
              "\n",
              "  const cancel = document.createElement('button');\n",
              "  inputElement.parentElement.appendChild(cancel);\n",
              "  cancel.textContent = 'Cancel upload';\n",
              "  const cancelPromise = new Promise((resolve) => {\n",
              "    cancel.onclick = () => {\n",
              "      resolve(null);\n",
              "    };\n",
              "  });\n",
              "\n",
              "  // Wait for the user to pick the files.\n",
              "  const files = yield {\n",
              "    promise: Promise.race([pickedPromise, cancelPromise]),\n",
              "    response: {\n",
              "      action: 'starting',\n",
              "    }\n",
              "  };\n",
              "\n",
              "  cancel.remove();\n",
              "\n",
              "  // Disable the input element since further picks are not allowed.\n",
              "  inputElement.disabled = true;\n",
              "\n",
              "  if (!files) {\n",
              "    return {\n",
              "      response: {\n",
              "        action: 'complete',\n",
              "      }\n",
              "    };\n",
              "  }\n",
              "\n",
              "  for (const file of files) {\n",
              "    const li = document.createElement('li');\n",
              "    li.append(span(file.name, {fontWeight: 'bold'}));\n",
              "    li.append(span(\n",
              "        `(${file.type || 'n/a'}) - ${file.size} bytes, ` +\n",
              "        `last modified: ${\n",
              "            file.lastModifiedDate ? file.lastModifiedDate.toLocaleDateString() :\n",
              "                                    'n/a'} - `));\n",
              "    const percent = span('0% done');\n",
              "    li.appendChild(percent);\n",
              "\n",
              "    outputElement.appendChild(li);\n",
              "\n",
              "    const fileDataPromise = new Promise((resolve) => {\n",
              "      const reader = new FileReader();\n",
              "      reader.onload = (e) => {\n",
              "        resolve(e.target.result);\n",
              "      };\n",
              "      reader.readAsArrayBuffer(file);\n",
              "    });\n",
              "    // Wait for the data to be ready.\n",
              "    let fileData = yield {\n",
              "      promise: fileDataPromise,\n",
              "      response: {\n",
              "        action: 'continue',\n",
              "      }\n",
              "    };\n",
              "\n",
              "    // Use a chunked sending to avoid message size limits. See b/62115660.\n",
              "    let position = 0;\n",
              "    do {\n",
              "      const length = Math.min(fileData.byteLength - position, MAX_PAYLOAD_SIZE);\n",
              "      const chunk = new Uint8Array(fileData, position, length);\n",
              "      position += length;\n",
              "\n",
              "      const base64 = btoa(String.fromCharCode.apply(null, chunk));\n",
              "      yield {\n",
              "        response: {\n",
              "          action: 'append',\n",
              "          file: file.name,\n",
              "          data: base64,\n",
              "        },\n",
              "      };\n",
              "\n",
              "      let percentDone = fileData.byteLength === 0 ?\n",
              "          100 :\n",
              "          Math.round((position / fileData.byteLength) * 100);\n",
              "      percent.textContent = `${percentDone}% done`;\n",
              "\n",
              "    } while (position < fileData.byteLength);\n",
              "  }\n",
              "\n",
              "  // All done.\n",
              "  yield {\n",
              "    response: {\n",
              "      action: 'complete',\n",
              "    }\n",
              "  };\n",
              "}\n",
              "\n",
              "scope.google = scope.google || {};\n",
              "scope.google.colab = scope.google.colab || {};\n",
              "scope.google.colab._files = {\n",
              "  _uploadFiles,\n",
              "  _uploadFilesContinue,\n",
              "};\n",
              "})(self);\n",
              "</script> "
            ]
          },
          "metadata": {}
        },
        {
          "output_type": "stream",
          "name": "stdout",
          "text": [
            "Saving sales_data.csv to sales_data.csv\n"
          ]
        }
      ]
    },
    {
      "cell_type": "code",
      "source": [
        "from pyspark.sql import SparkSession\n",
        "spark=SparkSession.builder.appName('SalesData').getOrCreate()\n",
        "\n",
        "df=spark.read.format('csv').option('header','true').option('inferSchema','true').load('sales_data.csv')\n",
        "df.show()"
      ],
      "metadata": {
        "colab": {
          "base_uri": "https://localhost:8080/"
        },
        "id": "oyq0Ag-SzvdV",
        "outputId": "77e5b77a-83b1-4b8b-ca21-5bb2f3046c90"
      },
      "execution_count": 5,
      "outputs": [
        {
          "output_type": "stream",
          "name": "stdout",
          "text": [
            "+-------+----------+---------------+------+--------+------+------+-----------+\n",
            "|OrderID| OrderDate|       Category|Region|Quantity| Sales|Profit|SubCategory|\n",
            "+-------+----------+---------------+------+--------+------+------+-----------+\n",
            "|   1001|2023-04-13|Office Supplies| South|       8|205.35|175.55|    Storage|\n",
            "|   1002|2023-12-15|     Technology|  West|       2|421.53|249.33|Accessories|\n",
            "|   1003|2023-09-28|      Furniture|  West|       9|970.94|154.52|  Bookcases|\n",
            "|   1004|2023-04-17|Office Supplies|  East|       7|295.23|204.45|    Binders|\n",
            "|   1005|2023-03-13|     Technology|  West|       9| 673.9|-35.97|Accessories|\n",
            "|   1006|2023-07-08|Office Supplies|  East|       6|358.93| 84.62|    Storage|\n",
            "|   1007|2023-01-21|      Furniture| South|       6| 784.8|-96.27|  Bookcases|\n",
            "|   1008|2023-04-13|      Furniture| South|       4|174.33| -1.33|     Tables|\n",
            "|   1009|2023-05-02|      Furniture| North|       2|971.33|190.58|  Bookcases|\n",
            "|   1010|2023-08-03|Office Supplies| South|       7| 481.1|296.72|    Binders|\n",
            "|   1011|2023-11-27|Office Supplies|  West|       5|274.25|-60.33|      Paper|\n",
            "|   1012|2023-03-29|      Furniture| South|       6|119.82|  60.6|     Chairs|\n",
            "|   1013|2023-04-10|Office Supplies|  East|       2|211.27|220.03|    Storage|\n",
            "|   1014|2023-12-26|      Furniture| South|       5|543.79|-18.39|     Tables|\n",
            "|   1015|2023-06-01|      Furniture| North|       4|370.15|122.03|     Chairs|\n",
            "|   1016|2023-05-11|     Technology| South|       9|837.44|193.23|Accessories|\n",
            "|   1017|2023-05-30|Office Supplies|  East|       6|459.34|146.39|    Binders|\n",
            "|   1018|2023-11-05|      Furniture|  East|       2|286.28|-24.79|     Chairs|\n",
            "|   1019|2023-09-15|      Furniture|  West|       1|636.29| 42.15|     Chairs|\n",
            "|   1020|2023-12-10|Office Supplies| South|       5|721.44|213.52|    Storage|\n",
            "+-------+----------+---------------+------+--------+------+------+-----------+\n",
            "only showing top 20 rows\n",
            "\n"
          ]
        }
      ]
    },
    {
      "cell_type": "code",
      "source": [
        "from pyspark.sql.functions import *\n",
        "df=df.toDF(*[col_name.strip().lower().replace(\" \",\"_\").replace(\"-\",\"_\").replace(\",\",\"_\") for col_name in df.columns])\n",
        "\n",
        "df=df.withColumn('quantity',col('quantity').cast('int'))\\\n",
        "     .withColumn('sales',col('sales').cast('double'))\\\n",
        "     .withColumn('profit',col('profit').cast('double'))\n",
        "\n",
        "df_cleaned=df.dropna().dropDuplicates()\n",
        "\n",
        "df_cleaned.show()\n",
        "df_cleaned.printSchema()\n",
        "df_cleaned.write.mode(\"overwrite\").csv(\"cleaned_sales_data\",header=True)\n"
      ],
      "metadata": {
        "colab": {
          "base_uri": "https://localhost:8080/"
        },
        "id": "igiXfeVe0m9c",
        "outputId": "23b21d1b-d805-46cf-ee4d-457ba4055eb0"
      },
      "execution_count": 12,
      "outputs": [
        {
          "output_type": "stream",
          "name": "stdout",
          "text": [
            "+-------+----------+---------------+------+--------+------+------+-----------+\n",
            "|orderid| orderdate|       category|region|quantity| sales|profit|subcategory|\n",
            "+-------+----------+---------------+------+--------+------+------+-----------+\n",
            "|   1140|2023-12-18|      Furniture| South|       2|930.68|165.52|  Bookcases|\n",
            "|   1478|2023-04-10|      Furniture| North|       6|487.51|-73.42|     Chairs|\n",
            "|   1075|2023-12-17|Office Supplies| South|       8| 78.87|299.34|    Binders|\n",
            "|   1398|2023-03-04|Office Supplies|  West|       4|465.72|102.51|    Binders|\n",
            "|   1047|2023-06-16|      Furniture|  East|       7| 54.69|135.28|  Bookcases|\n",
            "|   1096|2023-12-11|      Furniture|  West|       1|684.21|276.27|  Bookcases|\n",
            "|   1229|2023-11-21|      Furniture| North|       9|272.03| 10.76|  Bookcases|\n",
            "|   1283|2023-04-23|     Technology| North|       7|923.42| 40.95|    Laptops|\n",
            "|   1385|2023-11-17|      Furniture|  East|       9|192.55|142.84|  Bookcases|\n",
            "|   1394|2023-12-08|Office Supplies| North|       1|957.57|160.89|    Binders|\n",
            "|   1107|2023-09-18|Office Supplies| North|       1|426.36|191.18|    Binders|\n",
            "|   1128|2023-09-14|     Technology| North|       2|556.92|210.68|     Phones|\n",
            "|   1176|2023-10-10|     Technology|  West|       5|251.44|167.61|     Phones|\n",
            "|   1311|2023-02-07|Office Supplies|  East|       2| 216.1|  4.11|      Paper|\n",
            "|   1251|2023-12-04|     Technology|  West|       1|768.36|-35.11|    Laptops|\n",
            "|   1386|2023-09-21|      Furniture|  East|       6|358.44|152.52|     Chairs|\n",
            "|   1388|2023-05-23|     Technology| South|       4|502.22|181.05|     Phones|\n",
            "|   1482|2023-12-23|      Furniture| South|       5|673.35| 68.81|     Chairs|\n",
            "|   1011|2023-11-27|Office Supplies|  West|       5|274.25|-60.33|      Paper|\n",
            "|   1074|2023-09-27|      Furniture|  East|       9|592.08|194.27|     Tables|\n",
            "+-------+----------+---------------+------+--------+------+------+-----------+\n",
            "only showing top 20 rows\n",
            "\n",
            "root\n",
            " |-- orderid: integer (nullable = true)\n",
            " |-- orderdate: date (nullable = true)\n",
            " |-- category: string (nullable = true)\n",
            " |-- region: string (nullable = true)\n",
            " |-- quantity: integer (nullable = true)\n",
            " |-- sales: double (nullable = true)\n",
            " |-- profit: double (nullable = true)\n",
            " |-- subcategory: string (nullable = true)\n",
            "\n"
          ]
        }
      ]
    },
    {
      "cell_type": "code",
      "source": [
        "!zip -r cleaned_sales_data.zip cleaned_sales_data"
      ],
      "metadata": {
        "colab": {
          "base_uri": "https://localhost:8080/"
        },
        "id": "4Z5la7GP7HLB",
        "outputId": "1fc078cd-c656-461f-8e98-ccb164293782"
      },
      "execution_count": 13,
      "outputs": [
        {
          "output_type": "stream",
          "name": "stdout",
          "text": [
            "  adding: cleaned_sales_data/ (stored 0%)\n",
            "  adding: cleaned_sales_data/._SUCCESS.crc (stored 0%)\n",
            "  adding: cleaned_sales_data/_SUCCESS (stored 0%)\n",
            "  adding: cleaned_sales_data/.part-00000-77c4b06b-130d-4ac5-8ce6-f707ce9a99e6-c000.csv.crc (stored 0%)\n",
            "  adding: cleaned_sales_data/part-00000-77c4b06b-130d-4ac5-8ce6-f707ce9a99e6-c000.csv (deflated 71%)\n"
          ]
        }
      ]
    },
    {
      "cell_type": "code",
      "source": [
        "from google.colab import files\n",
        "files.download(\"cleaned_sales_data.zip\")"
      ],
      "metadata": {
        "colab": {
          "base_uri": "https://localhost:8080/",
          "height": 17
        },
        "id": "JGL5B7-j7Kew",
        "outputId": "cf8383a4-20a5-469b-e085-e70f4e5f88c5"
      },
      "execution_count": 14,
      "outputs": [
        {
          "output_type": "display_data",
          "data": {
            "text/plain": [
              "<IPython.core.display.Javascript object>"
            ],
            "application/javascript": [
              "\n",
              "    async function download(id, filename, size) {\n",
              "      if (!google.colab.kernel.accessAllowed) {\n",
              "        return;\n",
              "      }\n",
              "      const div = document.createElement('div');\n",
              "      const label = document.createElement('label');\n",
              "      label.textContent = `Downloading \"${filename}\": `;\n",
              "      div.appendChild(label);\n",
              "      const progress = document.createElement('progress');\n",
              "      progress.max = size;\n",
              "      div.appendChild(progress);\n",
              "      document.body.appendChild(div);\n",
              "\n",
              "      const buffers = [];\n",
              "      let downloaded = 0;\n",
              "\n",
              "      const channel = await google.colab.kernel.comms.open(id);\n",
              "      // Send a message to notify the kernel that we're ready.\n",
              "      channel.send({})\n",
              "\n",
              "      for await (const message of channel.messages) {\n",
              "        // Send a message to notify the kernel that we're ready.\n",
              "        channel.send({})\n",
              "        if (message.buffers) {\n",
              "          for (const buffer of message.buffers) {\n",
              "            buffers.push(buffer);\n",
              "            downloaded += buffer.byteLength;\n",
              "            progress.value = downloaded;\n",
              "          }\n",
              "        }\n",
              "      }\n",
              "      const blob = new Blob(buffers, {type: 'application/binary'});\n",
              "      const a = document.createElement('a');\n",
              "      a.href = window.URL.createObjectURL(blob);\n",
              "      a.download = filename;\n",
              "      div.appendChild(a);\n",
              "      a.click();\n",
              "      div.remove();\n",
              "    }\n",
              "  "
            ]
          },
          "metadata": {}
        },
        {
          "output_type": "display_data",
          "data": {
            "text/plain": [
              "<IPython.core.display.Javascript object>"
            ],
            "application/javascript": [
              "download(\"download_77a749a6-597f-4c68-ab34-a3771e4a26df\", \"cleaned_sales_data.zip\", 9555)"
            ]
          },
          "metadata": {}
        }
      ]
    }
  ],
  "metadata": {
    "colab": {
      "toc_visible": true,
      "provenance": []
    },
    "kernelspec": {
      "display_name": "Python 3",
      "name": "python3"
    }
  },
  "nbformat": 4,
  "nbformat_minor": 0
}